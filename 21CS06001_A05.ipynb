{
  "nbformat": 4,
  "nbformat_minor": 0,
  "metadata": {
    "colab": {
      "name": "21CS06001_A05.ipynb",
      "provenance": [],
      "collapsed_sections": [],
      "include_colab_link": true
    },
    "kernelspec": {
      "name": "python3",
      "display_name": "Python 3"
    },
    "language_info": {
      "name": "python"
    }
  },
  "cells": [
    {
      "cell_type": "markdown",
      "metadata": {
        "id": "view-in-github",
        "colab_type": "text"
      },
      "source": [
        "<a href=\"https://colab.research.google.com/github/akhand3108/SECURITY-FORENSICS-II/blob/main/21CS06001_A05.ipynb\" target=\"_parent\"><img src=\"https://colab.research.google.com/assets/colab-badge.svg\" alt=\"Open In Colab\"/></a>"
      ]
    },
    {
      "cell_type": "markdown",
      "source": [
        "##### Imports"
      ],
      "metadata": {
        "id": "sqe-Duy_kG_6"
      }
    },
    {
      "cell_type": "code",
      "source": [
        "from __future__ import division\n",
        "import nltk\n",
        "import string\n",
        "import glob\n",
        "import os\n",
        "import sys\n",
        "nltk.download('punkt')\n",
        "nltk.download('wordnet')\n",
        "nltk.download('stopwords')\n",
        "from nltk.stem import PorterStemmer\n",
        "from nltk.util import ngrams\n",
        "from nltk.tokenize import sent_tokenize,word_tokenize\n",
        "from nltk.corpus import stopwords\n",
        "from collections import Counter\n",
        "from nltk.stem import WordNetLemmatizer"
      ],
      "metadata": {
        "colab": {
          "base_uri": "https://localhost:8080/"
        },
        "id": "htelESC9kGWB",
        "outputId": "7683cf17-4015-425f-cd17-8922ba127408"
      },
      "execution_count": null,
      "outputs": [
        {
          "output_type": "stream",
          "name": "stdout",
          "text": [
            "[nltk_data] Downloading package punkt to /root/nltk_data...\n",
            "[nltk_data]   Package punkt is already up-to-date!\n",
            "[nltk_data] Downloading package wordnet to /root/nltk_data...\n",
            "[nltk_data]   Package wordnet is already up-to-date!\n",
            "[nltk_data] Downloading package stopwords to /root/nltk_data...\n",
            "[nltk_data]   Package stopwords is already up-to-date!\n"
          ]
        }
      ]
    },
    {
      "cell_type": "markdown",
      "source": [
        "##### Input File Function"
      ],
      "metadata": {
        "id": "fnmIpSo5kL_u"
      }
    },
    {
      "cell_type": "code",
      "source": [
        "def readinputfile(file_index):  \n",
        "  try:\n",
        "    # Read File using the index\n",
        "    file=open(\"/content/ref/{0}.txt\".format(file_index),\"r\")\n",
        "    text_read =file.read()        \n",
        "  except UnicodeDecodeError:\n",
        "    # Reload(sys) restarts the environment with changed encoding\n",
        "    reload(sys)\n",
        "    sys.setdefaultencoding('utf-8')    \n",
        "  return text_read"
      ],
      "metadata": {
        "id": "el6cbu25kqwu"
      },
      "execution_count": null,
      "outputs": []
    },
    {
      "cell_type": "markdown",
      "source": [
        "##### Preprocessing Function"
      ],
      "metadata": {
        "id": "imSL3x-JpFbW"
      }
    },
    {
      "cell_type": "code",
      "source": [
        "def preprocess(text_data):       \n",
        "\n",
        "  # tokenize words out of the text data \n",
        "  tokenized_words=word_tokenize(text_data)\n",
        "\n",
        "  # get english stop words\n",
        "  stop_words = str(stopwords.words('english'))\n",
        "\n",
        "  # remove unicode stamp\n",
        "  replaced_stop_words=stop_words.replace(\"u'\", \"\")\n",
        "\n",
        "\n",
        "  # get words not in stop words\n",
        "  resultant_words = []\n",
        "  for item in tokenized_words:\n",
        "      if item not in replaced_stop_words:\n",
        "          resultant_words.append(item)\n",
        "\n",
        "  fil=str(resultant_words)\n",
        "\n",
        "  #remove punctuation\n",
        "  repstr=\" \" * 32\n",
        "  table=str.maketrans(string.punctuation,repstr)\n",
        "  s=fil.translate(table)\n",
        "\n",
        "  #lemmatize the text\n",
        "  lemma=WordNetLemmatizer()\n",
        "  lemmatized_words=lemma.lemmatize(s)\n",
        "\n",
        "  # stemming the text\n",
        "  tokenized_words=word_tokenize(lemmatized_words)\n",
        "  porterstem=PorterStemmer()\n",
        "  stemmed_list=[]\n",
        "  for word in tokenized_words:\n",
        "      stemmed_list.append(porterstem.stem(word))\n",
        "\n",
        "  joined_list= '  '.join(stemmed_list)\n",
        "\n",
        "  res_string=str(joined_list)\n",
        "  return res_string"
      ],
      "metadata": {
        "id": "KWSWVsUnlelO"
      },
      "execution_count": null,
      "outputs": []
    },
    {
      "cell_type": "markdown",
      "source": [
        "##### find Bigram commons Fucntion"
      ],
      "metadata": {
        "id": "vBJva16RpKq6"
      }
    },
    {
      "cell_type": "code",
      "source": [
        "def find_common_bigrams(bigrams_set1, bigrams_set2):\n",
        "  common_bigrams_list=[]\n",
        "\n",
        "  # loop through all the elements in set 1 and check if it is in set 2\n",
        "\n",
        "  for gram in bigrams_set1:\n",
        "      if gram in bigrams_set2:\n",
        "        # if it is in both set push to common arraylist\n",
        "          common_bigrams_list.append(gram)\n",
        "\n",
        "  return common_bigrams_list"
      ],
      "metadata": {
        "id": "5l1bZb9Plhte"
      },
      "execution_count": null,
      "outputs": []
    },
    {
      "cell_type": "markdown",
      "source": [
        "##### Plagiarism Check Function"
      ],
      "metadata": {
        "id": "qZuJlL6spRKg"
      }
    },
    {
      "cell_type": "code",
      "execution_count": null,
      "metadata": {
        "id": "ody8jMA2SYl_"
      },
      "outputs": [],
      "source": [
        "def check_plagiriasm(textt1,textt2):     \n",
        "  # preprocessing both the text data \n",
        "  tex1=preprocess(textt1)\n",
        "  tex2=preprocess(textt2)\n",
        "\n",
        "  # find bigrams in both the text\n",
        "  n=4\n",
        "  bigrams1 = list(ngrams(tex1.split(), n))\n",
        "  bigrams2 = list(ngrams(tex2.split(), n))\n",
        "\n",
        "  #find the common bigrams\n",
        "  common_bigrams=find_common_bigrams(bigrams1,bigrams2)\n",
        "  print (\"| Similar elements in both the files\",common_bigrams)\n",
        "  print(\"_ \"*50)\n",
        "  \n",
        "  print (\"| count of similar elements\",len(common_bigrams))\n",
        "  print (\"| reference file elements\",len(bigrams1))\n",
        "  print (\"| Pecentage of common elements / Similarity\",(len(common_bigrams)/len(bigrams1))*100)\n",
        "  print(\"- \"*50)"
      ]
    },
    {
      "cell_type": "markdown",
      "source": [
        "# Main Function"
      ],
      "metadata": {
        "id": "urX06tkPpVF2"
      }
    },
    {
      "cell_type": "code",
      "source": [
        "path_to_reference= \"/content/ref/*.txt\"\n",
        "\n",
        "all_files = glob.glob(path_to_reference)\n",
        "count=len(all_files)\n",
        "\n",
        "#Read file and convert it into lower\n",
        "target_text=open(\"/content/tar/targetfile.txt\", \"r\").read()\n",
        "target_text=target_text.lower()\n",
        "\n",
        "# loop through all files for plagiarism\n",
        "while count!=0:\n",
        "  index = count\n",
        "  print(target_text)\n",
        "  \n",
        "  source_text=readinputfile(index)\n",
        "  source_text=source_text.lower()\n",
        "  check_plagiriasm(target_text,source_text)\n",
        "  print(\"\\n\\n\",\"#\"*100,\"\\n\\n\")\n",
        "  count=count-1"
      ],
      "metadata": {
        "colab": {
          "base_uri": "https://localhost:8080/"
        },
        "id": "TcRYcFScoxey",
        "outputId": "84636c24-d612-4570-8602-fc32dab67ab6"
      },
      "execution_count": null,
      "outputs": [
        {
          "output_type": "stream",
          "name": "stdout",
          "text": [
            "chemistry, the science that deals with the properties, composition, and structure of substances (defined as elements and compounds), the transformations they undergo, and the energy that is released or absorbed during these processes. every substance, whether naturally occurring or artificially produced, consists of one or more of the hundred-odd species of atoms that have been identified as elements. although these atoms, in turn, are composed of more elementary particles, they are the basic building blocks of chemical substances; there is no quantity of oxygen, mercury, or gold, for example, smaller than an atom of that substance. chemistry, therefore, is concerned not with the subatomic domain but with the properties of atoms and the laws governing their combinations and how the knowledge of these properties can be used to achieve specific purposes.\n",
            "the great challenge in chemistry is the development of a coherent explanation of the complex behaviour of materials, why they appear as they do, what gives them their enduring properties, and how interactions among different substances can bring about the formation of new substances and the destruction of old ones. from the earliest attempts to understand the material world in rational terms, chemists have struggled to develop theories of matter that satisfactorily explain both permanence and change. the ordered assembly of indestructible atoms into small and large molecules, or extended networks of intermingled atoms, is generally accepted as the basis of permanence, while the reorganization of atoms or molecules into different arrangements lies behind theories of change. thus chemistry involves the study of the atomic composition and structural architecture of substances, as well as the varied interactions among substances that can lead to sudden, often violent reactions.\n",
            "\n",
            "chemistry also is concerned with the utilization of natural substances and the creation of artificial ones. cooking, fermentation, glass making, and metallurgy are all chemical processes that date from the beginnings of civilization. today, vinyl, teflon, liquid crystals, semiconductors, and superconductors represent the fruits of chemical technology. the 20th century saw dramatic advances in the comprehension of the marvelous and complex chemistry of living organisms, and a molecular interpretation of health and disease holds great promise. modern chemistry, aided by increasingly sophisticated instruments, studies materials as small as single atoms and as large and complex as dna (deoxyribonucleic acid), which contains millions of atoms. new substances can even be designed to bear desired characteristics and then synthesized. the rate at which chemical knowledge continues to accumulate is remarkable. over time more than 8,000,000 different chemical substances, both natural and artificial, have been characterized and produced. the number was less than 500,000 as recently as 1965.\n",
            "| Similar elements in both the files [('chemistri', 'also', 'concern', 'util'), ('also', 'concern', 'util', 'natur'), ('concern', 'util', 'natur', 'substanc'), ('util', 'natur', 'substanc', 'creation'), ('natur', 'substanc', 'creation', 'artifici'), ('substanc', 'creation', 'artifici', 'one'), ('creation', 'artifici', 'one', 'cook'), ('artifici', 'one', 'cook', 'ferment'), ('one', 'cook', 'ferment', 'glass'), ('cook', 'ferment', 'glass', 'make'), ('ferment', 'glass', 'make', 'metallurgi'), ('glass', 'make', 'metallurgi', 'chemic'), ('make', 'metallurgi', 'chemic', 'process'), ('metallurgi', 'chemic', 'process', 'date'), ('chemic', 'process', 'date', 'begin'), ('process', 'date', 'begin', 'civil'), ('date', 'begin', 'civil', 'today'), ('begin', 'civil', 'today', 'vinyl'), ('civil', 'today', 'vinyl', 'teflon'), ('today', 'vinyl', 'teflon', 'liquid'), ('vinyl', 'teflon', 'liquid', 'crystal'), ('teflon', 'liquid', 'crystal', 'semiconductor'), ('liquid', 'crystal', 'semiconductor', 'superconductor'), ('crystal', 'semiconductor', 'superconductor', 'repres'), ('semiconductor', 'superconductor', 'repres', 'fruit'), ('superconductor', 'repres', 'fruit', 'chemic'), ('repres', 'fruit', 'chemic', 'technolog'), ('fruit', 'chemic', 'technolog', '20th'), ('chemic', 'technolog', '20th', 'centuri'), ('technolog', '20th', 'centuri', 'saw'), ('20th', 'centuri', 'saw', 'dramat'), ('centuri', 'saw', 'dramat', 'advanc'), ('saw', 'dramat', 'advanc', 'comprehens'), ('dramat', 'advanc', 'comprehens', 'marvel'), ('advanc', 'comprehens', 'marvel', 'complex'), ('comprehens', 'marvel', 'complex', 'chemistri'), ('marvel', 'complex', 'chemistri', 'live'), ('complex', 'chemistri', 'live', 'organ'), ('chemistri', 'live', 'organ', 'molecular'), ('live', 'organ', 'molecular', 'interpret'), ('organ', 'molecular', 'interpret', 'health'), ('molecular', 'interpret', 'health', 'diseas'), ('interpret', 'health', 'diseas', 'hold'), ('health', 'diseas', 'hold', 'great'), ('diseas', 'hold', 'great', 'promis'), ('hold', 'great', 'promis', 'modern'), ('great', 'promis', 'modern', 'chemistri'), ('promis', 'modern', 'chemistri', 'aid'), ('modern', 'chemistri', 'aid', 'increasingli'), ('chemistri', 'aid', 'increasingli', 'sophist'), ('aid', 'increasingli', 'sophist', 'instrument'), ('increasingli', 'sophist', 'instrument', 'studi'), ('sophist', 'instrument', 'studi', 'materi'), ('instrument', 'studi', 'materi', 'small'), ('studi', 'materi', 'small', 'singl'), ('materi', 'small', 'singl', 'atom'), ('small', 'singl', 'atom', 'larg'), ('singl', 'atom', 'larg', 'complex'), ('atom', 'larg', 'complex', 'dna'), ('larg', 'complex', 'dna', 'deoxyribonucl'), ('complex', 'dna', 'deoxyribonucl', 'acid'), ('dna', 'deoxyribonucl', 'acid', 'contain'), ('deoxyribonucl', 'acid', 'contain', 'million'), ('acid', 'contain', 'million', 'atom')]\n",
            "_ _ _ _ _ _ _ _ _ _ _ _ _ _ _ _ _ _ _ _ _ _ _ _ _ _ _ _ _ _ _ _ _ _ _ _ _ _ _ _ _ _ _ _ _ _ _ _ _ _ \n",
            "| count of similar elements 64\n",
            "| reference file elements 244\n",
            "| Pecentage of common elements / Similarity 26.229508196721312\n",
            "- - - - - - - - - - - - - - - - - - - - - - - - - - - - - - - - - - - - - - - - - - - - - - - - - - \n",
            "\n",
            "\n",
            " #################################################################################################### \n",
            "\n",
            "\n",
            "chemistry, the science that deals with the properties, composition, and structure of substances (defined as elements and compounds), the transformations they undergo, and the energy that is released or absorbed during these processes. every substance, whether naturally occurring or artificially produced, consists of one or more of the hundred-odd species of atoms that have been identified as elements. although these atoms, in turn, are composed of more elementary particles, they are the basic building blocks of chemical substances; there is no quantity of oxygen, mercury, or gold, for example, smaller than an atom of that substance. chemistry, therefore, is concerned not with the subatomic domain but with the properties of atoms and the laws governing their combinations and how the knowledge of these properties can be used to achieve specific purposes.\n",
            "the great challenge in chemistry is the development of a coherent explanation of the complex behaviour of materials, why they appear as they do, what gives them their enduring properties, and how interactions among different substances can bring about the formation of new substances and the destruction of old ones. from the earliest attempts to understand the material world in rational terms, chemists have struggled to develop theories of matter that satisfactorily explain both permanence and change. the ordered assembly of indestructible atoms into small and large molecules, or extended networks of intermingled atoms, is generally accepted as the basis of permanence, while the reorganization of atoms or molecules into different arrangements lies behind theories of change. thus chemistry involves the study of the atomic composition and structural architecture of substances, as well as the varied interactions among substances that can lead to sudden, often violent reactions.\n",
            "\n",
            "chemistry also is concerned with the utilization of natural substances and the creation of artificial ones. cooking, fermentation, glass making, and metallurgy are all chemical processes that date from the beginnings of civilization. today, vinyl, teflon, liquid crystals, semiconductors, and superconductors represent the fruits of chemical technology. the 20th century saw dramatic advances in the comprehension of the marvelous and complex chemistry of living organisms, and a molecular interpretation of health and disease holds great promise. modern chemistry, aided by increasingly sophisticated instruments, studies materials as small as single atoms and as large and complex as dna (deoxyribonucleic acid), which contains millions of atoms. new substances can even be designed to bear desired characteristics and then synthesized. the rate at which chemical knowledge continues to accumulate is remarkable. over time more than 8,000,000 different chemical substances, both natural and artificial, have been characterized and produced. the number was less than 500,000 as recently as 1965.\n",
            "| Similar elements in both the files [('reaction', 'chemistri', 'also', 'concern'), ('chemistri', 'also', 'concern', 'util'), ('also', 'concern', 'util', 'natur'), ('concern', 'util', 'natur', 'substanc'), ('util', 'natur', 'substanc', 'creation'), ('natur', 'substanc', 'creation', 'artifici'), ('substanc', 'creation', 'artifici', 'one'), ('creation', 'artifici', 'one', 'cook'), ('artifici', 'one', 'cook', 'ferment'), ('one', 'cook', 'ferment', 'glass'), ('cook', 'ferment', 'glass', 'make'), ('ferment', 'glass', 'make', 'metallurgi'), ('glass', 'make', 'metallurgi', 'chemic'), ('make', 'metallurgi', 'chemic', 'process'), ('metallurgi', 'chemic', 'process', 'date'), ('chemic', 'process', 'date', 'begin'), ('process', 'date', 'begin', 'civil'), ('date', 'begin', 'civil', 'today'), ('begin', 'civil', 'today', 'vinyl'), ('civil', 'today', 'vinyl', 'teflon'), ('today', 'vinyl', 'teflon', 'liquid'), ('vinyl', 'teflon', 'liquid', 'crystal'), ('teflon', 'liquid', 'crystal', 'semiconductor'), ('liquid', 'crystal', 'semiconductor', 'superconductor'), ('crystal', 'semiconductor', 'superconductor', 'repres'), ('semiconductor', 'superconductor', 'repres', 'fruit'), ('superconductor', 'repres', 'fruit', 'chemic'), ('repres', 'fruit', 'chemic', 'technolog'), ('fruit', 'chemic', 'technolog', '20th'), ('chemic', 'technolog', '20th', 'centuri'), ('technolog', '20th', 'centuri', 'saw'), ('20th', 'centuri', 'saw', 'dramat'), ('centuri', 'saw', 'dramat', 'advanc'), ('saw', 'dramat', 'advanc', 'comprehens'), ('dramat', 'advanc', 'comprehens', 'marvel'), ('advanc', 'comprehens', 'marvel', 'complex'), ('comprehens', 'marvel', 'complex', 'chemistri'), ('marvel', 'complex', 'chemistri', 'live'), ('complex', 'chemistri', 'live', 'organ'), ('chemistri', 'live', 'organ', 'molecular'), ('live', 'organ', 'molecular', 'interpret'), ('organ', 'molecular', 'interpret', 'health'), ('molecular', 'interpret', 'health', 'diseas'), ('interpret', 'health', 'diseas', 'hold'), ('health', 'diseas', 'hold', 'great'), ('diseas', 'hold', 'great', 'promis'), ('hold', 'great', 'promis', 'modern'), ('great', 'promis', 'modern', 'chemistri'), ('promis', 'modern', 'chemistri', 'aid'), ('modern', 'chemistri', 'aid', 'increasingli'), ('chemistri', 'aid', 'increasingli', 'sophist'), ('aid', 'increasingli', 'sophist', 'instrument'), ('increasingli', 'sophist', 'instrument', 'studi'), ('sophist', 'instrument', 'studi', 'materi'), ('instrument', 'studi', 'materi', 'small'), ('studi', 'materi', 'small', 'singl'), ('materi', 'small', 'singl', 'atom'), ('small', 'singl', 'atom', 'larg'), ('singl', 'atom', 'larg', 'complex'), ('atom', 'larg', 'complex', 'dna'), ('larg', 'complex', 'dna', 'deoxyribonucl'), ('complex', 'dna', 'deoxyribonucl', 'acid'), ('dna', 'deoxyribonucl', 'acid', 'contain'), ('deoxyribonucl', 'acid', 'contain', 'million'), ('acid', 'contain', 'million', 'atom'), ('contain', 'million', 'atom', 'new'), ('million', 'atom', 'new', 'substanc'), ('atom', 'new', 'substanc', 'even'), ('new', 'substanc', 'even', 'design'), ('substanc', 'even', 'design', 'bear'), ('even', 'design', 'bear', 'desir'), ('design', 'bear', 'desir', 'characterist'), ('bear', 'desir', 'characterist', 'synthes'), ('desir', 'characterist', 'synthes', 'rate'), ('characterist', 'synthes', 'rate', 'chemic'), ('synthes', 'rate', 'chemic', 'knowledg'), ('rate', 'chemic', 'knowledg', 'continu'), ('chemic', 'knowledg', 'continu', 'accumul'), ('knowledg', 'continu', 'accumul', 'remark')]\n",
            "_ _ _ _ _ _ _ _ _ _ _ _ _ _ _ _ _ _ _ _ _ _ _ _ _ _ _ _ _ _ _ _ _ _ _ _ _ _ _ _ _ _ _ _ _ _ _ _ _ _ \n",
            "| count of similar elements 79\n",
            "| reference file elements 244\n",
            "| Pecentage of common elements / Similarity 32.37704918032787\n",
            "- - - - - - - - - - - - - - - - - - - - - - - - - - - - - - - - - - - - - - - - - - - - - - - - - - \n",
            "\n",
            "\n",
            " #################################################################################################### \n",
            "\n",
            "\n"
          ]
        }
      ]
    }
  ]
}