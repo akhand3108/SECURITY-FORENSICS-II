{
  "nbformat": 4,
  "nbformat_minor": 0,
  "metadata": {
    "colab": {
      "name": "A1_21CS06001.ipynb",
      "provenance": [],
      "authorship_tag": "ABX9TyMDQJLiuP68XOWkP70IC7+b",
      "include_colab_link": true
    },
    "kernelspec": {
      "name": "python3",
      "display_name": "Python 3"
    },
    "language_info": {
      "name": "python"
    }
  },
  "cells": [
    {
      "cell_type": "markdown",
      "metadata": {
        "id": "view-in-github",
        "colab_type": "text"
      },
      "source": [
        "<a href=\"https://colab.research.google.com/github/akhand3108/SECURITY-FORENSICS-II/blob/main/A1_21CS06001.ipynb\" target=\"_parent\"><img src=\"https://colab.research.google.com/assets/colab-badge.svg\" alt=\"Open In Colab\"/></a>"
      ]
    },
    {
      "cell_type": "code",
      "execution_count": 1,
      "metadata": {
        "id": "guwJDTcwPpsn"
      },
      "outputs": [],
      "source": [
        "import cv2\n",
        "import numpy as np"
      ]
    },
    {
      "cell_type": "code",
      "source": [
        "def get_key():\n",
        "    myfile = open('/content/secret_key.txt', 'rt') \n",
        "    key1 = myfile.read()        \n",
        "    myfile.close()                   \n",
        "    return key1\n"
      ],
      "metadata": {
        "id": "fYWsiClKP3IK"
      },
      "execution_count": 2,
      "outputs": []
    },
    {
      "cell_type": "code",
      "source": [
        "def to_bin(data):\n",
        "    \"\"\"Convert `data` to binary format as string\"\"\"\n",
        "    if isinstance(data, str):\n",
        "        return ''.join([ format(ord(i), \"08b\") for i in data ])\n",
        "    elif isinstance(data, bytes) or isinstance(data, np.ndarray):\n",
        "        return [ format(i, \"08b\") for i in data ]\n",
        "    elif isinstance(data, int) or isinstance(data, np.uint8):\n",
        "        return format(data, \"08b\")\n",
        "    else:\n",
        "        raise TypeError(\"Type not supported.\")"
      ],
      "metadata": {
        "id": "bf6_tBCiP7OI"
      },
      "execution_count": 3,
      "outputs": []
    },
    {
      "cell_type": "code",
      "source": [
        "def encode(key, image_name, secret_data):\n",
        "    \n",
        "    image = cv2.imread(image_name)\n",
        "    \n",
        "    n_bytes = image.shape[0] * image.shape[1] * 3 // 8\n",
        "    print(\"[*] Maximum bytes to encode:\", n_bytes)\n",
        "    if len(secret_data) > n_bytes:\n",
        "        raise ValueError(\"[!] Insufficient bytes, need bigger image or less data.\")\n",
        "    print(\"[*] Encoding data...\")\n",
        "    \n",
        "    \n",
        "   \n",
        "    data_index = 0\n",
        "    \n",
        "    binary_secret_data = to_bin(secret_data)\n",
        "    binary_key = to_bin(key)\n",
        "    \n",
        "    enc_data = ([])\n",
        "    for i in range(0, len(binary_secret_data)): \n",
        "         enc_data.append(int(binary_secret_data[i]) ^ int(binary_key[i%8]))\n",
        "\n",
        "    \n",
        "\n",
        "    data_len = len(enc_data)\n",
        "    for row in image:\n",
        "        for pixel in row:\n",
        "            r, g, b = to_bin(pixel)\n",
        "            \n",
        "            if ((data_index < data_len) and (( int(r[-2]) ^ int(binary_key[(data_index)%8])) == 1)):\n",
        "                pixel[0] = int(r[:-1] + str(enc_data[data_index]), 2)\n",
        "                data_index += 1\n",
        "            if ((data_index < data_len) and (( int(g[-2]) ^ int(binary_key[(data_index)%8])) == 1)):\n",
        "                \n",
        "                pixel[1] = int(g[:-1] + str(enc_data[data_index]), 2)\n",
        "                data_index += 1\n",
        "            if ((data_index < data_len) and (( int(b[-2]) ^ int(binary_key[(data_index)%8])) == 1)):\n",
        "                \n",
        "                pixel[2] = int(b[:-1] + str(enc_data[data_index]), 2)\n",
        "                data_index += 1\n",
        "            \n",
        "            if data_index >= data_len:\n",
        "                break\n",
        "    return image\n"
      ],
      "metadata": {
        "id": "ONyFVXZzQAVY"
      },
      "execution_count": 4,
      "outputs": []
    },
    {
      "cell_type": "code",
      "source": [
        "def decode(key, image_name, n):\n",
        "    print(\"[+] Decoding...\")\n",
        "    \n",
        "    image = cv2.imread(image_name)\n",
        "    binary_data = \"\"\n",
        "    data_index = 0\n",
        "    binary_key = to_bin(key)\n",
        "    for row in image:\n",
        "        for pixel in row:\n",
        "            r, g, b = to_bin(pixel)\n",
        "            if ((( int(r[-2]) ^ int(binary_key[(data_index)%8])) == 1)):\n",
        "                \n",
        "                binary_data += r[-1]\n",
        "                data_index += 1\n",
        "            if ((( int(g[-2]) ^ int(binary_key[(data_index)%8]) ) == 1)):\n",
        "                \n",
        "                binary_data += g[-1]\n",
        "                data_index += 1\n",
        "            if ((( int(b[-2]) ^ int(binary_key[(data_index)%8]) ) == 1)):\n",
        "                \n",
        "                binary_data += b[-1]\n",
        "                data_index += 1\n",
        "\n",
        "            if data_index > n:\n",
        "                break\n",
        "\n",
        "    all_bytes = [ binary_data[i: i+8] for i in range(0, len(binary_data), 8) ]\n",
        "    \n",
        "    \n",
        "\n",
        "    dec_data = []\n",
        "    \n",
        "    for i in range(0, len(all_bytes)-1):\n",
        "        dec_str = \"\"\n",
        "        for j in range(0,8): \n",
        "            dec_str += str(int(binary_data[i*8 + j]) ^ int(binary_key[j]))\n",
        "        dec_data.append(dec_str)\n",
        "\n",
        "    \n",
        "\n",
        "    decoded_data = \"\"\n",
        "    for byte in dec_data:\n",
        "        decoded_data += chr(int(byte, 2))\n",
        "        if decoded_data[-5:] == '=====' :\n",
        "            break\n",
        "    \n",
        "    return decoded_data[:-5]\n"
      ],
      "metadata": {
        "id": "8Q2-Py8QQDpc"
      },
      "execution_count": 5,
      "outputs": []
    },
    {
      "cell_type": "code",
      "source": [
        "def steganography():\n",
        "    input_image = \"/content/IMG2.PNG\"\n",
        "    output_image = \"/content/IMG2_conv.PNG\"\n",
        "    delimiter = \"=====\"\n",
        "    secret_data = \"This is a top secret message.\" + delimiter\n",
        "    binary_secret_data = to_bin(secret_data)\n",
        "    n = len(binary_secret_data)\n",
        "    key = get_key()\n",
        "    \n",
        "    encoded_image = encode(key, image_name=input_image, secret_data=secret_data)\n",
        "    print(\"Data encoded and Image generated\")\n",
        "    \n",
        "    cv2.imwrite(output_image, encoded_image)\n",
        "    \n",
        "    decoded_data = decode(key, output_image, n)\n",
        "    print(\"[+] Decoded data:\", decoded_data)\n"
      ],
      "metadata": {
        "id": "dfJEjomfQGKz"
      },
      "execution_count": 6,
      "outputs": []
    },
    {
      "cell_type": "code",
      "source": [
        "def calculate_PSNR():\n",
        "    input_image = cv2.imread(\"/content/IMG2.PNG\")\n",
        "    output_image = cv2.imread( \"/content/IMG2_conv.PNG\")\n",
        "\n",
        "    psnr = cv2.PSNR(input_image, output_image)\n",
        "    print(psnr)\n",
        "    "
      ],
      "metadata": {
        "id": "Vm8E1lH2QG3A"
      },
      "execution_count": 7,
      "outputs": []
    },
    {
      "cell_type": "code",
      "source": [
        "steganography()\n",
        "calculate_PSNR()"
      ],
      "metadata": {
        "colab": {
          "base_uri": "https://localhost:8080/"
        },
        "id": "Q3wY0vgBQJD3",
        "outputId": "f8c92380-4b69-489f-a0b6-6deca4c27be1"
      },
      "execution_count": 8,
      "outputs": [
        {
          "output_type": "stream",
          "name": "stdout",
          "text": [
            "[*] Maximum bytes to encode: 97920\n",
            "[*] Encoding data...\n",
            "Data encoded and Image generated\n",
            "[+] Decoding...\n",
            "[+] Decoded data: This is a top secret message.\n",
            "85.5475340827827\n"
          ]
        }
      ]
    }
  ]
}