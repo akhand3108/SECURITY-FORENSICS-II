{
  "nbformat": 4,
  "nbformat_minor": 0,
  "metadata": {
    "colab": {
      "name": "A2_21CS06001.ipynb",
      "provenance": [],
      "authorship_tag": "ABX9TyPAJXlFs8T5O7icRDPykMn4",
      "include_colab_link": true
    },
    "kernelspec": {
      "name": "python3",
      "display_name": "Python 3"
    },
    "language_info": {
      "name": "python"
    }
  },
  "cells": [
    {
      "cell_type": "markdown",
      "metadata": {
        "id": "view-in-github",
        "colab_type": "text"
      },
      "source": [
        "<a href=\"https://colab.research.google.com/github/akhand3108/SECURITY-FORENSICS-II/blob/main/A2_21CS06001.ipynb\" target=\"_parent\"><img src=\"https://colab.research.google.com/assets/colab-badge.svg\" alt=\"Open In Colab\"/></a>"
      ]
    },
    {
      "cell_type": "markdown",
      "source": [
        "Imports"
      ],
      "metadata": {
        "id": "QeVt71gIXw2i"
      }
    },
    {
      "cell_type": "code",
      "execution_count": null,
      "metadata": {
        "id": "-QmPx_ZrXqL3"
      },
      "outputs": [],
      "source": [
        "import wave\n",
        "from pathlib import Path\n"
      ]
    },
    {
      "cell_type": "code",
      "source": [
        "message = Path('C:\\\\Users\\\\user\\\\Desktop\\\\para.txt').read_text()\n",
        "message = message.replace('\\n', '')      \n",
        " \n",
        "wavefile = wave.open('C:\\\\Users\\\\user\\\\Desktop\\\\sound.wav', mode='rb')\n",
        "    \n",
        "\n",
        "bytes_frame = bytearray(list(wavefile.readframes(wavefile.getnframes())))\n",
        "    \n",
        "\n",
        "myfile = open('C:\\\\Users\\\\user\\\\Desktop\\\\para.txt', 'rt') \n",
        "message = myfile.read()        \n",
        "myfile.close() \n",
        "\n",
        "message = message + int((len(bytes_frame)-(len(message)*8*8))/8) *'#'\n",
        "\n",
        "bit_array = list(map(int, ''.join([bin(ord(i)).lstrip('0b').rjust(8,'0') for i in message])))\n",
        "    \n",
        "\n",
        "for i, bit in enumerate(bit_array):\n",
        "    bytes_frame[i] = (bytes_frame[i] & 254) | bit\n",
        "\n",
        "frame_modified = bytes(bytes_frame)\n",
        "    \n",
        "\n",
        "with wave.open('C:\\\\Users\\\\user\\\\Desktop\\\\stego_audio.wav', 'wb') as en:\n",
        "    en.setparams(wavefile.getparams())\n",
        "    en.writeframes(frame_modified)\n",
        "wavefile.close()\n",
        "\n",
        "wavefile = wave.open('C:\\\\Users\\\\user\\\\Desktop\\\\stego_audio.wav', mode='rb')\n",
        "\n",
        "bytes_frame = bytearray(list(wavefile.readframes(wavefile.getnframes())))\n",
        "    \n",
        "\n",
        "extraction = [bytes_frame[i] & 1 for i in range(len(bytes_frame))]\n",
        "    \n",
        "\n",
        "message = \"\".join(chr(int(\"\".join(map(str,extraction[i:i+8])),2)) for i in range(0,len(extraction),8))\n",
        "\n",
        "decoded_msg = message.split(\"###\")[0]\n",
        "\n",
        "print(\"Sucessfully decoded: \\n\"+ decoded_msg)\n",
        "wavefile.close()"
      ],
      "metadata": {
        "id": "Liw8kExcXzU2"
      },
      "execution_count": null,
      "outputs": []
    }
  ]
}