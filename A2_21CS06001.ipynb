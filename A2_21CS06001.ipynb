{
  "nbformat": 4,
  "nbformat_minor": 0,
  "metadata": {
    "colab": {
      "name": "A2_21CS06001.ipynb",
      "provenance": [],
      "authorship_tag": "ABX9TyPuW+haYF/C1VlOAtjXRcts",
      "include_colab_link": true
    },
    "kernelspec": {
      "name": "python3",
      "display_name": "Python 3"
    },
    "language_info": {
      "name": "python"
    }
  },
  "cells": [
    {
      "cell_type": "markdown",
      "metadata": {
        "id": "view-in-github",
        "colab_type": "text"
      },
      "source": [
        "<a href=\"https://colab.research.google.com/github/akhand3108/SECURITY-FORENSICS-II/blob/main/A2_21CS06001.ipynb\" target=\"_parent\"><img src=\"https://colab.research.google.com/assets/colab-badge.svg\" alt=\"Open In Colab\"/></a>"
      ]
    },
    {
      "cell_type": "markdown",
      "source": [
        "Imports"
      ],
      "metadata": {
        "id": "QeVt71gIXw2i"
      }
    },
    {
      "cell_type": "code",
      "execution_count": 3,
      "metadata": {
        "id": "-QmPx_ZrXqL3"
      },
      "outputs": [],
      "source": [
        "import wave\n",
        "from pathlib import Path"
      ]
    },
    {
      "cell_type": "markdown",
      "source": [
        "## Enter Input File name and text to be hidden"
      ],
      "metadata": {
        "id": "XaAoEBPJ2YYf"
      }
    },
    {
      "cell_type": "code",
      "source": [
        "input_path = input(\"Enter file path\")\n",
        "output_path = input(\"enter the filepath for output\")\n",
        "message = input(\"Enter the secret text to hide\")"
      ],
      "metadata": {
        "colab": {
          "base_uri": "https://localhost:8080/"
        },
        "id": "rvFIgMf-2X6w",
        "outputId": "14a5f76c-1809-4e29-b969-3340874d19f7"
      },
      "execution_count": 1,
      "outputs": [
        {
          "name": "stdout",
          "output_type": "stream",
          "text": [
            "Enter file path/content/cover_audio.wav\n",
            "enter the filepath for outputout.wav\n",
            "Enter the secret text to hidethjggfgjkl\n"
          ]
        }
      ]
    },
    {
      "cell_type": "markdown",
      "source": [
        "# Encode here"
      ],
      "metadata": {
        "id": "xwuXqmw44OO3"
      }
    },
    {
      "cell_type": "code",
      "source": [
        "#message = Path('/content/para.txt').read_text()\n",
        "message = message.replace('\\n', '')      \n",
        " \n",
        "wavefile = wave.open(input_path, mode='rb')\n",
        "    \n",
        "\n",
        "bytes_frame = bytearray(list(wavefile.readframes(wavefile.getnframes())))\n",
        "    \n",
        "\n",
        "#myfile = open('/content/para.txt', 'rt') \n",
        "#message = myfile.read()        \n",
        "#myfile.close() \n",
        "\n",
        "message = message + int((len(bytes_frame)-(len(message)*8*8))/8) *'#'\n",
        "\n",
        "bit_array = list(map(int, ''.join([bin(ord(i)).lstrip('0b').rjust(8,'0') for i in message])))\n",
        "    \n",
        "\n",
        "for i, bit in enumerate(bit_array):\n",
        "    bytes_frame[i] = (bytes_frame[i] & 254) | bit\n",
        "\n",
        "frame_modified = bytes(bytes_frame)\n",
        "    \n",
        "\n",
        "with wave.open(output_path, 'wb') as en:\n",
        "    en.setparams(wavefile.getparams())\n",
        "    en.writeframes(frame_modified)\n",
        "wavefile.close()\n",
        "\n"
      ],
      "metadata": {
        "id": "Liw8kExcXzU2"
      },
      "execution_count": 4,
      "outputs": []
    },
    {
      "cell_type": "markdown",
      "source": [
        "# Decode here"
      ],
      "metadata": {
        "id": "p0PB_E6q4Suf"
      }
    },
    {
      "cell_type": "code",
      "source": [
        "wavefile = wave.open(output_path, mode='rb')\n",
        "\n",
        "bytes_frame = bytearray(list(wavefile.readframes(wavefile.getnframes())))\n",
        "    \n",
        "\n",
        "extraction = [bytes_frame[i] & 1 for i in range(len(bytes_frame))]\n",
        "    \n",
        "\n",
        "output_msg = \"\".join(chr(int(\"\".join(map(str,extraction[i:i+8])),2)) for i in range(0,len(extraction),8))\n",
        "\n",
        "decoded_msg = output_msg.split(\"###\")[0]\n",
        "\n",
        "print(\"Sucessfully decoded: \\n\"+ decoded_msg)\n",
        "wavefile.close()"
      ],
      "metadata": {
        "id": "WF_puWfAbNtn",
        "colab": {
          "base_uri": "https://localhost:8080/"
        },
        "outputId": "ecedc209-2556-441c-cef2-b011aebcf545"
      },
      "execution_count": 5,
      "outputs": [
        {
          "output_type": "stream",
          "name": "stdout",
          "text": [
            "Sucessfully decoded: \n",
            "thjggfgjkl\n"
          ]
        }
      ]
    }
  ]
}